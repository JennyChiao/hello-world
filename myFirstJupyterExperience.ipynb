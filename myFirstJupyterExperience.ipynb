{
 "nbformat": 4,
 "nbformat_minor": 2,
 "metadata": {
  "language_info": {
   "name": "python",
   "codemirror_mode": {
    "name": "ipython",
    "version": 3
   },
   "version": "3.7.6-final"
  },
  "orig_nbformat": 2,
  "file_extension": ".py",
  "mimetype": "text/x-python",
  "name": "python",
  "npconvert_exporter": "python",
  "pygments_lexer": "ipython3",
  "version": 3,
  "kernelspec": {
   "name": "python3",
   "display_name": "Python 3"
  }
 },
 "cells": [
  {
   "cell_type": "markdown",
   "metadata": {},
   "source": [
    "# Trying this out but I don't think its what I want\n",
    "\n",
    "Or maybe it is idk.\n",
    "\n",
    "```python\n",
    "msg = \"Hello World! yeah\"\n",
    "print(msg)\n",
    "```"
   ]
  },
  {
   "cell_type": "markdown",
   "metadata": {},
   "source": [
    "Looks like:\n",
    "- it doesn't do syntax highlighting\n",
    "- but its cool that you can run segmented code\n",
    "- and then change it to markdown\n",
    "- guess it doesn't really matter since I don't care for markdown's python syntax highlighting anyway\n",
    "\n",
    ">*I think I'll stick with it*"
   ]
  },
  {
   "cell_type": "code",
   "execution_count": 7,
   "metadata": {},
   "outputs": [
    {
     "output_type": "stream",
     "name": "stdout",
     "text": "An instance of Tweet\n"
    }
   ],
   "source": [
    "class Tweet:\n",
    "    def __init__(self, message):\n",
    "        self.message = message\n",
    "    def print_tweet(self):\n",
    "        print(self.message)\n",
    "\n",
    "t = Tweet('An instance of Tweet')\n",
    "t.print_tweet()"
   ]
  },
  {
   "cell_type": "code",
   "execution_count": null,
   "metadata": {},
   "outputs": [],
   "source": []
  }
 ]
}